{
 "cells": [
  {
   "cell_type": "markdown",
   "metadata": {
    "id": "UW23ILk3OXYV"
   },
   "source": [
    "# The lonely machine"
   ]
  },
  {
   "metadata": {},
   "cell_type": "code",
   "outputs": [],
   "execution_count": null,
   "source": [
    "# @markdown Initialize\n",
    "\n",
    "!git clone https://github.com/Kostis-S-Z/lonelymachine.git\n",
    "%cd lonelymachine\n",
    "!pip install -r requirements.txt"
   ]
  },
  {
   "metadata": {},
   "cell_type": "code",
   "outputs": [],
   "execution_count": null,
   "source": [
    "# @markdown This Machine uses the Google Street View API. In order to get it started, you need to provide your API key and secret. You can get them from the [Google Cloud Console](https://console.cloud.google.com/google/maps-apis/).\n",
    "\n",
    "# ===== API Credentials =====\n",
    "from getpass import getpass\n",
    "api_key = getpass(\"Paste your Street View API Key here:\")\n",
    "api_secret = getpass(\"Paste your Street View API Key here:\")"
   ]
  },
  {
   "cell_type": "code",
   "execution_count": null,
   "metadata": {},
   "outputs": [],
   "source": [
    "# @title ## Select your area of exploration { run: \"auto\" }\n",
    "\n",
    "# @markdown 1.   Visit https://boundingbox.klokantech.com\n",
    "\n",
    "# @markdown 2.   In the bottom left corner there is a dropdown menu which defines the format of the coordinates. Select `DublinCore`\n",
    "\n",
    "# @markdown 3.   Move to your area of interest and draw the box that you like\n",
    "\n",
    "# @markdown 4.   In the bottom left corner (`DCMI BOX`) you will have your 4 coordinates. Click on the icon right of the text box to copy them.\n",
    "\n",
    "# @markdown 5.   Input the coordinates at the box below (Note that west-east and north-south should have same amount of decimal precision)\n",
    "\n",
    "\n",
    "# @markdown ## Input the coordinates you selected from the website\n",
    "\n",
    "# ===== Bounding Box and Generation Parameters =====\n",
    "min_lat = 37946894  # @param {type:\"number\"}\n",
    "max_lat = 38092677  # @param {type:\"number\"}\n",
    "min_lon = 23665374  # @param {type:\"number\"}\n",
    "max_lon = 23926643  # @param {type:\"number\"}\n",
    "\n",
    "\n",
    "# ## Select sampling method\n",
    "# Choose between sampling photos from evenly spaced points within the area, or let the *machine* choose on its \"own\"\n",
    "method = \"random\"  # @param [\"random\", \"even\"]\n",
    "\n",
    "# @markdown ## Select number of photos you want to generate\n",
    "n_locs = 5  # @param {type:\"slider\", min:1, max:20, step:1}"
   ]
  },
  {
   "cell_type": "code",
   "execution_count": null,
   "metadata": {},
   "outputs": [],
   "source": [
    "# @title Advanced parametrization { run: \"auto\" }\n",
    "\n",
    "# @markdown Dimensions in pixels of photo\n",
    "photo_size = \"640x320\"  # @param [\"640x640\", \"640x320\", \"320x640\", \"320x320\"]\n",
    "\n",
    "# @markdown Horizontal field of view\n",
    "fov = 120  # @param {type:\"slider\", min:0, max:120, step:5}\n",
    "\n",
    "# @markdown Compass heading of the camera, e.g. North is 0 or 360. East is 90. South is 180. West is 270.\n",
    "compass = 90  # @param {type:\"slider\", min:0, max:360, step:10}\n",
    "\n",
    "# @markdown Sometimes the exact point will not have a photo, define the slack in radius meters to allow the machine to search\n",
    "radius = 55  # @param {type:\"slider\", min:5, max:500, step:5}\n",
    "\n",
    "# @markdown Specifies the up or down angle of the camera relative to the Street View vehicle\n",
    "pitch = 10  # @param {type:\"slider\", min:-90, max:90, step:10}"
   ]
  },
  {
   "cell_type": "markdown",
   "metadata": {
    "id": "PEcU2tamVhdR"
   },
   "source": [
    "## Run code"
   ]
  },
  {
   "cell_type": "code",
   "execution_count": null,
   "metadata": {},
   "outputs": [],
   "source": [
    "import os\n",
    "from source.the_machine.locations.generator import create_locations\n",
    "from source.the_machine.api.client import fetch_images\n",
    "\n",
    "# Build generation parameters dictionary for create_locations\n",
    "gen_params = {\n",
    "    \"min_lat\": int(min_lat),\n",
    "    \"max_lat\": int(max_lat),\n",
    "    \"min_lon\": int(min_lon),\n",
    "    \"max_lon\": int(max_lon),\n",
    "    \"method\": method,\n",
    "    \"n_locs\": int(n_locs),\n",
    "}\n",
    "print(\"Generating location CSV file with parameters:\")\n",
    "print(gen_params)\n",
    "file_path = create_locations(gen_params)\n",
    "print(\"CSV file created:\", file_path)\n",
    "\n",
    "# Set the API credentials as environment variables (used by fetch_images)\n",
    "os.environ[\"STREET_VIEW_API_KEY\"] = api_key\n",
    "os.environ[\"STREET_VIEW_API_SECRET\"] = api_secret\n",
    "\n",
    "# Build photo request parameters dictionary\n",
    "photo_params = {\n",
    "    \"n_addresses\": int(n_locs),\n",
    "    \"size\": photo_size,\n",
    "    \"fov\": fov,\n",
    "    \"heading\": compass,\n",
    "    \"radius\": str(radius),\n",
    "    \"pitch\": pitch,\n",
    "    \"source\": \"default\",\n",
    "    \"return_error_code\": \"true\",\n",
    "}\n",
    "print(\"\\nPhoto request parameters:\")\n",
    "print(photo_params)\n",
    "\n",
    "# Fetch images based on the generated CSV and provided parameters\n",
    "fetch_images(input_file=file_path, params=photo_params, manual_check=False)"
   ]
  },
  {
   "cell_type": "markdown",
   "metadata": {},
   "source": "## Execute"
  },
  {
   "cell_type": "code",
   "execution_count": null,
   "metadata": {},
   "outputs": [],
   "source": [
    "# @title Tell bot to go to a specific point\n",
    "\n",
    "from source.the_machine.api.client import fetch_image_from_location\n",
    "\n",
    "# Mandatory format 'XX.XXXXX,XX.XXXXX', e.g '38.059576,23.737887'\n",
    "location = \"38.059576,23.737887\"  # @param {type: \"string\"}\n",
    "filename = f\"my_{location}.jpg\"\n",
    "\n",
    "fetch_image_from_location(location, api_key, api_secret, photo_params, filename)\n",
    "\n",
    "from IPython.display import Image\n",
    "Image(filename)"
   ]
  },
  {
   "cell_type": "markdown",
   "metadata": {
    "id": "IJWvLzd-1xDp"
   },
   "source": [
    "### Notes\n",
    "\n",
    "- Street View imagery comes from two sources: Google (non-public developer-controlled imagery), and the public (UGC, or public user-generated content). Note that there is no way to use only one source of Street View imagery over the other. Learn more about our Street view imagery privacy policy."
   ]
  }
 ],
 "metadata": {
  "colab": {
   "provenance": []
  },
  "kernelspec": {
   "display_name": "Python 3",
   "name": "python3"
  },
  "language_info": {
   "name": "python"
  }
 },
 "nbformat": 4,
 "nbformat_minor": 0
}
